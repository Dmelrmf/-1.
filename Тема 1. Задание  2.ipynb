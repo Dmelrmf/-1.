{
 "cells": [
  {
   "cell_type": "code",
   "execution_count": null,
   "id": "c7901a48",
   "metadata": {},
   "outputs": [],
   "source": [
    "number = 123321\n",
    "int_to_str = str(number)\n",
    "sum1 = int(int_to_str[0]) + int(int_to_str[1]) + int(int_to_str[2])\n",
    "sum2 = int(int_to_str[3]) + int(int_to_str[4]) + int(int_to_str[5])\n",
    "if sum1 == sum2:\n",
    "    print('Счастливый билет')\n",
    "else:\n",
    "    print('Несчастливый билет')"
   ]
  }
 ],
 "metadata": {
  "kernelspec": {
   "display_name": "Python 3 (ipykernel)",
   "language": "python",
   "name": "python3"
  },
  "language_info": {
   "codemirror_mode": {
    "name": "ipython",
    "version": 3
   },
   "file_extension": ".py",
   "mimetype": "text/x-python",
   "name": "python",
   "nbconvert_exporter": "python",
   "pygments_lexer": "ipython3",
   "version": "3.9.12"
  }
 },
 "nbformat": 4,
 "nbformat_minor": 5
}
